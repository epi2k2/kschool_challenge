{
 "cells": [
  {
   "cell_type": "code",
   "execution_count": 17,
   "metadata": {},
   "outputs": [],
   "source": [
    "import pandas as pd\n",
    "import matplotlib.pyplot as plt\n",
    "import bz2\n",
    "pd.options.display.max_columns = None"
   ]
  },
  {
   "cell_type": "code",
   "execution_count": 13,
   "metadata": {},
   "outputs": [
    {
     "name": "stdout",
     "output_type": "stream",
     "text": [
      "\n",
      "bzcat: I/O or other error, bailing out.  Possible reason follows.\n",
      "bzcat: Broken pipe\n",
      "\tInput file = bookings.csv.bz2, output file = (stdout)\n",
      "\n",
      "bzcat: I/O or other error, bailing out.  Possible reason follows.\n",
      "bzcat: Broken pipe\n",
      "\tInput file = searches.csv.bz2, output file = (stdout)\n"
     ]
    }
   ],
   "source": [
    "!bzcat bookings.csv.bz2 | head -10000 > bookings.sample.csv\n",
    "!bzip2 -f bookings.sample.csv\n",
    "!bzcat searches.csv.bz2 | head -10000 > searches.sample.csv\n",
    "!bzip2 -f searches.sample.csv"
   ]
  },
  {
   "cell_type": "code",
   "execution_count": 9,
   "metadata": {},
   "outputs": [],
   "source": []
  },
  {
   "cell_type": "code",
   "execution_count": 14,
   "metadata": {
    "scrolled": false
   },
   "outputs": [],
   "source": [
    "booking_bz2 = 'bookings.sample.csv.bz2'\n",
    "searches_bz22 = 'searches.sample.csv.bz2'"
   ]
  },
  {
   "cell_type": "markdown",
   "metadata": {},
   "source": [
    "### Exercise 1\n",
    "Count the number of lines in Python for\n",
    "each file"
   ]
  },
  {
   "cell_type": "code",
   "execution_count": 15,
   "metadata": {
    "scrolled": true
   },
   "outputs": [
    {
     "name": "stdout",
     "output_type": "stream",
     "text": [
      "10000\r\n"
     ]
    }
   ],
   "source": [
    "!bzcat bookings.sample.csv.bz2 | wc -l"
   ]
  },
  {
   "cell_type": "code",
   "execution_count": 19,
   "metadata": {},
   "outputs": [
    {
     "data": {
      "text/plain": [
       "10000"
      ]
     },
     "execution_count": 19,
     "metadata": {},
     "output_type": "execute_result"
    }
   ],
   "source": [
    "len(bz2.open(booking_bz2).readlines())"
   ]
  },
  {
   "cell_type": "markdown",
   "metadata": {},
   "source": [
    "### Exercise 2\n",
    "Top 10 arrival airports in the world in 2013 (using the bookings file)  \n",
    "• Arrival airport is the column arr_port. It is the IATA code for the airport\n",
    "• To get the total number of passengers for an airport, you can sum the column\n",
    "pax, grouping by arr_port. Note that there is negative pax. That corresponds to\n",
    "cancelations. So to get the total number of passengers that have actually\n",
    "booked, you should sum including the negatives (that will remove the canceled\n",
    "bookings).  \n",
    "• Print the top 10 arrival airports in the standard output, including the number of\n",
    "passengers.  \n",
    "• Bonus point: Get the name of the city or airport corresponding to that airport\n",
    "(programatically, we suggest to have a look at GeoBases in Github)  \n",
    "• Bonus point: Solve this problem using pandas (instead of any other approach)"
   ]
  },
  {
   "cell_type": "markdown",
   "metadata": {},
   "source": [
    "#### Prueba para cargar sólo el año 2013\n",
    "\n",
    "iter_csv = pd.read_csv(booking_bz2, compression='bz2', sep='^', iterator=True, chunksize=10000)  \n",
    "booking = pd.concat([chunk[chunk['year'] == 2013] for chunk in iter_csv])"
   ]
  },
  {
   "cell_type": "code",
   "execution_count": 28,
   "metadata": {},
   "outputs": [],
   "source": [
    "booking = pd.read_csv(booking_bz2, sep='^', compression='bz2')"
   ]
  },
  {
   "cell_type": "code",
   "execution_count": 23,
   "metadata": {},
   "outputs": [
    {
     "data": {
      "text/html": [
       "<div>\n",
       "<style scoped>\n",
       "    .dataframe tbody tr th:only-of-type {\n",
       "        vertical-align: middle;\n",
       "    }\n",
       "\n",
       "    .dataframe tbody tr th {\n",
       "        vertical-align: top;\n",
       "    }\n",
       "\n",
       "    .dataframe thead th {\n",
       "        text-align: right;\n",
       "    }\n",
       "</style>\n",
       "<table border=\"1\" class=\"dataframe\">\n",
       "  <thead>\n",
       "    <tr style=\"text-align: right;\">\n",
       "      <th></th>\n",
       "      <th>act_date</th>\n",
       "      <th>source</th>\n",
       "      <th>pos_ctry</th>\n",
       "      <th>pos_iata</th>\n",
       "      <th>pos_oid</th>\n",
       "      <th>rloc</th>\n",
       "      <th>cre_date</th>\n",
       "      <th>duration</th>\n",
       "      <th>distance</th>\n",
       "      <th>dep_port</th>\n",
       "      <th>dep_city</th>\n",
       "      <th>dep_ctry</th>\n",
       "      <th>arr_port</th>\n",
       "      <th>arr_city</th>\n",
       "      <th>arr_ctry</th>\n",
       "      <th>lst_port</th>\n",
       "      <th>lst_city</th>\n",
       "      <th>lst_ctry</th>\n",
       "      <th>brd_port</th>\n",
       "      <th>brd_city</th>\n",
       "      <th>brd_ctry</th>\n",
       "      <th>off_port</th>\n",
       "      <th>off_city</th>\n",
       "      <th>off_ctry</th>\n",
       "      <th>mkt_port</th>\n",
       "      <th>mkt_city</th>\n",
       "      <th>mkt_ctry</th>\n",
       "      <th>intl</th>\n",
       "      <th>route</th>\n",
       "      <th>carrier</th>\n",
       "      <th>bkg_class</th>\n",
       "      <th>cab_class</th>\n",
       "      <th>brd_time</th>\n",
       "      <th>off_time</th>\n",
       "      <th>pax</th>\n",
       "      <th>year</th>\n",
       "      <th>month</th>\n",
       "      <th>oid</th>\n",
       "    </tr>\n",
       "  </thead>\n",
       "  <tbody>\n",
       "    <tr>\n",
       "      <th>0</th>\n",
       "      <td>2013-03-05 00:00:00</td>\n",
       "      <td>1A</td>\n",
       "      <td>DE</td>\n",
       "      <td>a68dd7ae953c8acfb187a1af2dcbe123</td>\n",
       "      <td>1a11ae49fcbf545fd2afc1a24d88d2b7</td>\n",
       "      <td>ea65900e72d71f4626378e2ebd298267</td>\n",
       "      <td>2013-02-22 00:00:00</td>\n",
       "      <td>1708</td>\n",
       "      <td>0</td>\n",
       "      <td>ZRH</td>\n",
       "      <td>ZRH</td>\n",
       "      <td>CH</td>\n",
       "      <td>LHR</td>\n",
       "      <td>LON</td>\n",
       "      <td>GB</td>\n",
       "      <td>ZRH</td>\n",
       "      <td>ZRH</td>\n",
       "      <td>CH</td>\n",
       "      <td>LHR</td>\n",
       "      <td>LON</td>\n",
       "      <td>GB</td>\n",
       "      <td>ZRH</td>\n",
       "      <td>ZRH</td>\n",
       "      <td>CH</td>\n",
       "      <td>LHRZRH</td>\n",
       "      <td>LONZRH</td>\n",
       "      <td>CHGB</td>\n",
       "      <td>1</td>\n",
       "      <td>LHRZRH</td>\n",
       "      <td>VI</td>\n",
       "      <td>T</td>\n",
       "      <td>Y</td>\n",
       "      <td>2013-03-07 08:50:00</td>\n",
       "      <td>2013-03-07 11:33:37</td>\n",
       "      <td>-1</td>\n",
       "      <td>2013</td>\n",
       "      <td>3</td>\n",
       "      <td>NULL</td>\n",
       "    </tr>\n",
       "    <tr>\n",
       "      <th>1</th>\n",
       "      <td>2013-03-26 00:00:00</td>\n",
       "      <td>1A</td>\n",
       "      <td>US</td>\n",
       "      <td>e612b9eeeee6f17f42d9b0d3b79e75ca</td>\n",
       "      <td>7437560d8f276d6d05eeb806d9e7edee</td>\n",
       "      <td>737295a86982c941f1c2da9a46a14043</td>\n",
       "      <td>2013-03-26 00:00:00</td>\n",
       "      <td>135270</td>\n",
       "      <td>0</td>\n",
       "      <td>SAL</td>\n",
       "      <td>SAL</td>\n",
       "      <td>SV</td>\n",
       "      <td>CLT</td>\n",
       "      <td>CLT</td>\n",
       "      <td>US</td>\n",
       "      <td>SAL</td>\n",
       "      <td>SAL</td>\n",
       "      <td>SV</td>\n",
       "      <td>SAL</td>\n",
       "      <td>SAL</td>\n",
       "      <td>SV</td>\n",
       "      <td>CLT</td>\n",
       "      <td>CLT</td>\n",
       "      <td>US</td>\n",
       "      <td>CLTSAL</td>\n",
       "      <td>CLTSAL</td>\n",
       "      <td>SVUS</td>\n",
       "      <td>1</td>\n",
       "      <td>SALATLCLT</td>\n",
       "      <td>NV</td>\n",
       "      <td>L</td>\n",
       "      <td>Y</td>\n",
       "      <td>2013-04-12 13:04:00</td>\n",
       "      <td>2013-04-12 22:05:40</td>\n",
       "      <td>1</td>\n",
       "      <td>2013</td>\n",
       "      <td>3</td>\n",
       "      <td>NULL</td>\n",
       "    </tr>\n",
       "    <tr>\n",
       "      <th>2</th>\n",
       "      <td>2013-03-26 00:00:00</td>\n",
       "      <td>1A</td>\n",
       "      <td>US</td>\n",
       "      <td>e612b9eeeee6f17f42d9b0d3b79e75ca</td>\n",
       "      <td>7437560d8f276d6d05eeb806d9e7edee</td>\n",
       "      <td>737295a86982c941f1c2da9a46a14043</td>\n",
       "      <td>2013-03-26 00:00:00</td>\n",
       "      <td>135270</td>\n",
       "      <td>0</td>\n",
       "      <td>SAL</td>\n",
       "      <td>SAL</td>\n",
       "      <td>SV</td>\n",
       "      <td>CLT</td>\n",
       "      <td>CLT</td>\n",
       "      <td>US</td>\n",
       "      <td>SAL</td>\n",
       "      <td>SAL</td>\n",
       "      <td>SV</td>\n",
       "      <td>CLT</td>\n",
       "      <td>CLT</td>\n",
       "      <td>US</td>\n",
       "      <td>SAL</td>\n",
       "      <td>SAL</td>\n",
       "      <td>SV</td>\n",
       "      <td>CLTSAL</td>\n",
       "      <td>CLTSAL</td>\n",
       "      <td>SVUS</td>\n",
       "      <td>1</td>\n",
       "      <td>CLTATLSAL</td>\n",
       "      <td>NV</td>\n",
       "      <td>U</td>\n",
       "      <td>Y</td>\n",
       "      <td>2013-07-15 07:00:00</td>\n",
       "      <td>2013-07-15 11:34:51</td>\n",
       "      <td>1</td>\n",
       "      <td>2013</td>\n",
       "      <td>3</td>\n",
       "      <td>NULL</td>\n",
       "    </tr>\n",
       "    <tr>\n",
       "      <th>3</th>\n",
       "      <td>2013-03-26 00:00:00</td>\n",
       "      <td>1A</td>\n",
       "      <td>AU</td>\n",
       "      <td>0f984b3bb6bd06661c95529bbd6193bc</td>\n",
       "      <td>36472c6dbaf7afec9136ac40364e2794</td>\n",
       "      <td>5ecf00fdcbcec761c43dc7285253d0c1</td>\n",
       "      <td>2013-03-26 00:00:00</td>\n",
       "      <td>30885</td>\n",
       "      <td>0</td>\n",
       "      <td>AKL</td>\n",
       "      <td>AKL</td>\n",
       "      <td>NZ</td>\n",
       "      <td>SVO</td>\n",
       "      <td>MOW</td>\n",
       "      <td>RU</td>\n",
       "      <td>AKL</td>\n",
       "      <td>AKL</td>\n",
       "      <td>NZ</td>\n",
       "      <td>AKL</td>\n",
       "      <td>AKL</td>\n",
       "      <td>NZ</td>\n",
       "      <td>SVO</td>\n",
       "      <td>MOW</td>\n",
       "      <td>RU</td>\n",
       "      <td>AKLSVO</td>\n",
       "      <td>AKLMOW</td>\n",
       "      <td>NZRU</td>\n",
       "      <td>1</td>\n",
       "      <td>AKLHKGSVO</td>\n",
       "      <td>XK</td>\n",
       "      <td>G</td>\n",
       "      <td>Y</td>\n",
       "      <td>2013-04-24 23:59:00</td>\n",
       "      <td>2013-04-25 16:06:31</td>\n",
       "      <td>1</td>\n",
       "      <td>2013</td>\n",
       "      <td>3</td>\n",
       "      <td>SYDA82546</td>\n",
       "    </tr>\n",
       "    <tr>\n",
       "      <th>4</th>\n",
       "      <td>2013-03-26 00:00:00</td>\n",
       "      <td>1A</td>\n",
       "      <td>AU</td>\n",
       "      <td>0f984b3bb6bd06661c95529bbd6193bc</td>\n",
       "      <td>36472c6dbaf7afec9136ac40364e2794</td>\n",
       "      <td>5ecf00fdcbcec761c43dc7285253d0c1</td>\n",
       "      <td>2013-03-26 00:00:00</td>\n",
       "      <td>30885</td>\n",
       "      <td>0</td>\n",
       "      <td>AKL</td>\n",
       "      <td>AKL</td>\n",
       "      <td>NZ</td>\n",
       "      <td>SVO</td>\n",
       "      <td>MOW</td>\n",
       "      <td>RU</td>\n",
       "      <td>AKL</td>\n",
       "      <td>AKL</td>\n",
       "      <td>NZ</td>\n",
       "      <td>SVO</td>\n",
       "      <td>MOW</td>\n",
       "      <td>RU</td>\n",
       "      <td>AKL</td>\n",
       "      <td>AKL</td>\n",
       "      <td>NZ</td>\n",
       "      <td>AKLSVO</td>\n",
       "      <td>AKLMOW</td>\n",
       "      <td>NZRU</td>\n",
       "      <td>1</td>\n",
       "      <td>SVOHKGAKL</td>\n",
       "      <td>XK</td>\n",
       "      <td>G</td>\n",
       "      <td>Y</td>\n",
       "      <td>2013-05-14 20:15:00</td>\n",
       "      <td>2013-05-16 10:44:50</td>\n",
       "      <td>1</td>\n",
       "      <td>2013</td>\n",
       "      <td>3</td>\n",
       "      <td>SYDA82546</td>\n",
       "    </tr>\n",
       "  </tbody>\n",
       "</table>\n",
       "</div>"
      ],
      "text/plain": [
       "   act_date             source  pos_ctry                          pos_iata  \\\n",
       "0  2013-03-05 00:00:00  1A      DE        a68dd7ae953c8acfb187a1af2dcbe123   \n",
       "1  2013-03-26 00:00:00  1A      US        e612b9eeeee6f17f42d9b0d3b79e75ca   \n",
       "2  2013-03-26 00:00:00  1A      US        e612b9eeeee6f17f42d9b0d3b79e75ca   \n",
       "3  2013-03-26 00:00:00  1A      AU        0f984b3bb6bd06661c95529bbd6193bc   \n",
       "4  2013-03-26 00:00:00  1A      AU        0f984b3bb6bd06661c95529bbd6193bc   \n",
       "\n",
       "                          pos_oid                      rloc            \\\n",
       "0  1a11ae49fcbf545fd2afc1a24d88d2b7  ea65900e72d71f4626378e2ebd298267   \n",
       "1  7437560d8f276d6d05eeb806d9e7edee  737295a86982c941f1c2da9a46a14043   \n",
       "2  7437560d8f276d6d05eeb806d9e7edee  737295a86982c941f1c2da9a46a14043   \n",
       "3  36472c6dbaf7afec9136ac40364e2794  5ecf00fdcbcec761c43dc7285253d0c1   \n",
       "4  36472c6dbaf7afec9136ac40364e2794  5ecf00fdcbcec761c43dc7285253d0c1   \n",
       "\n",
       "   cre_date             duration  distance  dep_port  dep_city  dep_ctry  \\\n",
       "0  2013-02-22 00:00:00      1708         0  ZRH       ZRH       CH         \n",
       "1  2013-03-26 00:00:00    135270         0  SAL       SAL       SV         \n",
       "2  2013-03-26 00:00:00    135270         0  SAL       SAL       SV         \n",
       "3  2013-03-26 00:00:00     30885         0  AKL       AKL       NZ         \n",
       "4  2013-03-26 00:00:00     30885         0  AKL       AKL       NZ         \n",
       "\n",
       "   arr_port  arr_city  arr_ctry  lst_port  lst_city  lst_ctry  brd_port  \\\n",
       "0  LHR       LON       GB        ZRH       ZRH       CH        LHR        \n",
       "1  CLT       CLT       US        SAL       SAL       SV        SAL        \n",
       "2  CLT       CLT       US        SAL       SAL       SV        CLT        \n",
       "3  SVO       MOW       RU        AKL       AKL       NZ        AKL        \n",
       "4  SVO       MOW       RU        AKL       AKL       NZ        SVO        \n",
       "\n",
       "   brd_city  brd_ctry  off_port  off_city  off_ctry  mkt_port  mkt_city  \\\n",
       "0  LON       GB        ZRH       ZRH       CH        LHRZRH    LONZRH     \n",
       "1  SAL       SV        CLT       CLT       US        CLTSAL    CLTSAL     \n",
       "2  CLT       US        SAL       SAL       SV        CLTSAL    CLTSAL     \n",
       "3  AKL       NZ        SVO       MOW       RU        AKLSVO    AKLMOW     \n",
       "4  MOW       RU        AKL       AKL       NZ        AKLSVO    AKLMOW     \n",
       "\n",
       "   mkt_ctry  intl  route           carrier  bkg_class  cab_class  \\\n",
       "0  CHGB         1  LHRZRH               VI  T          Y           \n",
       "1  SVUS         1  SALATLCLT            NV  L          Y           \n",
       "2  SVUS         1  CLTATLSAL            NV  U          Y           \n",
       "3  NZRU         1  AKLHKGSVO            XK  G          Y           \n",
       "4  NZRU         1  SVOHKGAKL            XK  G          Y           \n",
       "\n",
       "   brd_time             off_time             pax  year  month  oid        \n",
       "0  2013-03-07 08:50:00  2013-03-07 11:33:37   -1  2013      3  NULL       \n",
       "1  2013-04-12 13:04:00  2013-04-12 22:05:40    1  2013      3  NULL       \n",
       "2  2013-07-15 07:00:00  2013-07-15 11:34:51    1  2013      3  NULL       \n",
       "3  2013-04-24 23:59:00  2013-04-25 16:06:31    1  2013      3  SYDA82546  \n",
       "4  2013-05-14 20:15:00  2013-05-16 10:44:50    1  2013      3  SYDA82546  "
      ]
     },
     "execution_count": 23,
     "metadata": {},
     "output_type": "execute_result"
    }
   ],
   "source": [
    "booking.head()"
   ]
  },
  {
   "cell_type": "code",
   "execution_count": 24,
   "metadata": {},
   "outputs": [
    {
     "data": {
      "text/plain": [
       "(9999, 38)"
      ]
     },
     "execution_count": 24,
     "metadata": {},
     "output_type": "execute_result"
    }
   ],
   "source": [
    "booking.shape"
   ]
  },
  {
   "cell_type": "code",
   "execution_count": 29,
   "metadata": {
    "scrolled": true
   },
   "outputs": [],
   "source": [
    "booking_2013 = booking[booking['year'] == 2013]"
   ]
  },
  {
   "cell_type": "code",
   "execution_count": 30,
   "metadata": {
    "scrolled": true
   },
   "outputs": [
    {
     "data": {
      "text/plain": [
       "act_date               0\n",
       "source                 0\n",
       "pos_ctry               0\n",
       "pos_iata               0\n",
       "pos_oid                0\n",
       "rloc                   0\n",
       "cre_date               0\n",
       "duration               0\n",
       "distance               0\n",
       "dep_port               0\n",
       "dep_city               0\n",
       "dep_ctry               0\n",
       "arr_port               0\n",
       "arr_city               0\n",
       "arr_ctry               0\n",
       "lst_port               0\n",
       "lst_city               0\n",
       "lst_ctry               0\n",
       "brd_port               0\n",
       "brd_city               0\n",
       "brd_ctry               0\n",
       "off_port               0\n",
       "off_city               0\n",
       "off_ctry               0\n",
       "mkt_port               0\n",
       "mkt_city               0\n",
       "mkt_ctry               0\n",
       "intl                   0\n",
       "route                  0\n",
       "carrier                0\n",
       "bkg_class              0\n",
       "cab_class              0\n",
       "brd_time               0\n",
       "off_time               0\n",
       "pax                    0\n",
       "year                   0\n",
       "month                  0\n",
       "oid                    0\n",
       "dtype: int64"
      ]
     },
     "execution_count": 30,
     "metadata": {},
     "output_type": "execute_result"
    }
   ],
   "source": [
    "booking_2013.isnull().sum()"
   ]
  },
  {
   "cell_type": "code",
   "execution_count": 33,
   "metadata": {},
   "outputs": [
    {
     "data": {
      "text/plain": [
       "arr_port\n",
       "HKG         112\n",
       "LGA          95\n",
       "ORD          94\n",
       "JFK          92\n",
       "LAX          91\n",
       "SFO          91\n",
       "MCO          90\n",
       "DCA          82\n",
       "DEN          79\n",
       "LHR          76\n",
       "Name: pax, dtype: int64"
      ]
     },
     "execution_count": 33,
     "metadata": {},
     "output_type": "execute_result"
    }
   ],
   "source": [
    "top_ten = booking_2013.groupby('arr_port').sum().sort_values(by='pax', ascending=False)['pax'].head(10)\n",
    "top_ten"
   ]
  },
  {
   "cell_type": "code",
   "execution_count": null,
   "metadata": {},
   "outputs": [],
   "source": []
  }
 ],
 "metadata": {
  "kernelspec": {
   "display_name": "Python 3",
   "language": "python",
   "name": "python3"
  },
  "language_info": {
   "codemirror_mode": {
    "name": "ipython",
    "version": 3
   },
   "file_extension": ".py",
   "mimetype": "text/x-python",
   "name": "python",
   "nbconvert_exporter": "python",
   "pygments_lexer": "ipython3",
   "version": "3.8.5"
  }
 },
 "nbformat": 4,
 "nbformat_minor": 4
}
